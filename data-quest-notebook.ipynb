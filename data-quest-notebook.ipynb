{
 "cells": [
  {
   "cell_type": "code",
   "execution_count": 1,
   "id": "226dedaf",
   "metadata": {},
   "outputs": [
    {
     "name": "stdout",
     "output_type": "stream",
     "text": [
      "Starting Spark application\n"
     ]
    },
    {
     "data": {
      "text/html": [
       "<table>\n",
       "<tr><th>ID</th><th>YARN Application ID</th><th>Kind</th><th>State</th><th>Spark UI</th><th>Driver log</th><th>User</th><th>Current session?</th></tr><tr><td>2</td><td>application_1626151071679_0003</td><td>pyspark</td><td>idle</td><td><a target=\"_blank\" href=\"http://ip-10-30-0-175.ec2.internal:20888/proxy/application_1626151071679_0003/\">Link</a></td><td><a target=\"_blank\" href=\"http://ip-10-30-0-91.ec2.internal:8042/node/containerlogs/container_1626151071679_0003_01_000001/livy\">Link</a></td><td>None</td><td>✔</td></tr></table>"
      ],
      "text/plain": [
       "<IPython.core.display.HTML object>"
      ]
     },
     "metadata": {},
     "output_type": "display_data"
    },
    {
     "data": {
      "application/vnd.jupyter.widget-view+json": {
       "model_id": "",
       "version_major": 2,
       "version_minor": 0
      },
      "text/plain": [
       "FloatProgress(value=0.0, bar_style='info', description='Progress:', layout=Layout(height='25px', width='50%'),…"
      ]
     },
     "metadata": {},
     "output_type": "display_data"
    },
    {
     "name": "stdout",
     "output_type": "stream",
     "text": [
      "SparkSession available as 'spark'.\n"
     ]
    },
    {
     "data": {
      "application/vnd.jupyter.widget-view+json": {
       "model_id": "",
       "version_major": 2,
       "version_minor": 0
      },
      "text/plain": [
       "FloatProgress(value=0.0, bar_style='info', description='Progress:', layout=Layout(height='25px', width='50%'),…"
      ]
     },
     "metadata": {},
     "output_type": "display_data"
    }
   ],
   "source": [
    "# Imports:\n",
    "import sys\n",
    "from awsglue.transforms import *\n",
    "from awsglue.utils import getResolvedOptions\n",
    "from pyspark.context import SparkContext\n",
    "from awsglue.context import GlueContext, DynamicFrame\n",
    "from awsglue.job import Job\n",
    "from pyspark.sql.functions import *\n",
    "from pyspark.sql.types import *"
   ]
  },
  {
   "cell_type": "code",
   "execution_count": 2,
   "id": "10da95b6",
   "metadata": {},
   "outputs": [
    {
     "data": {
      "application/vnd.jupyter.widget-view+json": {
       "model_id": "",
       "version_major": 2,
       "version_minor": 0
      },
      "text/plain": [
       "FloatProgress(value=0.0, bar_style='info', description='Progress:', layout=Layout(height='25px', width='50%'),…"
      ]
     },
     "metadata": {},
     "output_type": "display_data"
    }
   ],
   "source": [
    "# Context:\n",
    "# For notebook work, uncomment `context = \"notebook\"` and comment `context = args[\"context\"]`\n",
    "context = \"notebook\"\n",
    "# context = args[\"context\"]\n",
    "\n",
    "if context == \"notebook\":\n",
    "    tempbucket = \"s3://data-quest/temp-directory/\"\n",
    "    Pdatabase = \"database-data-quest\"\n",
    "    # For Zeppelin notebook use these:\n",
    "    glueContext = GlueContext(SparkContext.getOrCreate())\n",
    "else:\n",
    "    tempbucket = args[\"tempbucket\"]\n",
    "    Pdatabase = args[\"database\"]\n",
    "    # For Glue Job use these:\n",
    "    sc = SparkContext()\n",
    "    glueContext = GlueContext(sc)\n",
    "\n",
    "\n",
    "spark = glueContext.spark_session\n",
    "job = Job(glueContext)\n",
    "\n",
    "spark.conf.set(\"spark.sql.sources.partitionOverwriteMode\",\"dynamic\")"
   ]
  },
  {
   "cell_type": "code",
   "execution_count": 3,
   "id": "1b947d57",
   "metadata": {},
   "outputs": [
    {
     "data": {
      "application/vnd.jupyter.widget-view+json": {
       "model_id": "",
       "version_major": 2,
       "version_minor": 0
      },
      "text/plain": [
       "FloatProgress(value=0.0, bar_style='info', description='Progress:', layout=Layout(height='25px', width='50%'),…"
      ]
     },
     "metadata": {},
     "output_type": "display_data"
    }
   ],
   "source": [
    "# Load Data:\n",
    "# Source dynamic frame from glue catalog\n",
    "prDynamicFarme = glueContext.create_dynamic_frame.from_catalog(database=Pdatabase, table_name=\"csv\")\n",
    "usaDataDynamicFarme = glueContext.create_dynamic_frame.from_catalog(database=Pdatabase, table_name=\"json\")\n",
    "\n",
    "# Select all data\n",
    "prDynamicFarme.toDF().registerTempTable(\"pr\")\n",
    "pr_results = spark.sql(\"SELECT * FROM pr\")\n",
    "\n",
    "# Select all data\n",
    "usaDataDynamicFarme.toDF().registerTempTable(\"usadata\")\n",
    "usadata_results = spark.sql(\"SELECT * FROM usadata\")"
   ]
  },
  {
   "cell_type": "code",
   "execution_count": 4,
   "id": "2386fa9b",
   "metadata": {},
   "outputs": [
    {
     "data": {
      "application/vnd.jupyter.widget-view+json": {
       "model_id": "",
       "version_major": 2,
       "version_minor": 0
      },
      "text/plain": [
       "FloatProgress(value=0.0, bar_style='info', description='Progress:', layout=Layout(height='25px', width='50%'),…"
      ]
     },
     "metadata": {},
     "output_type": "display_data"
    },
    {
     "name": "stdout",
     "output_type": "stream",
     "text": [
      "+-----------------+----+------+-----+--------------+\n",
      "|        series_id|year|period|value|footnote_codes|\n",
      "+-----------------+----+------+-----+--------------+\n",
      "|PRS30006011      |1995|   Q01|  2.6|              |\n",
      "|PRS30006011      |1995|   Q02|  2.1|              |\n",
      "|PRS30006011      |1995|   Q03|  0.9|              |\n",
      "|PRS30006011      |1995|   Q04|  0.1|              |\n",
      "|PRS30006011      |1995|   Q05|  1.4|              |\n",
      "|PRS30006011      |1996|   Q01| -0.2|              |\n",
      "|PRS30006011      |1996|   Q02| -0.3|              |\n",
      "|PRS30006011      |1996|   Q03| -0.1|              |\n",
      "|PRS30006011      |1996|   Q04|  0.2|              |\n",
      "|PRS30006011      |1996|   Q05| -0.1|              |\n",
      "|PRS30006011      |1997|   Q01|  0.3|              |\n",
      "|PRS30006011      |1997|   Q02|  0.7|              |\n",
      "|PRS30006011      |1997|   Q03|  1.0|              |\n",
      "|PRS30006011      |1997|   Q04|  1.5|              |\n",
      "|PRS30006011      |1997|   Q05|  0.9|              |\n",
      "|PRS30006011      |1998|   Q01|  1.6|              |\n",
      "|PRS30006011      |1998|   Q02|  1.6|              |\n",
      "|PRS30006011      |1998|   Q03|  0.5|              |\n",
      "|PRS30006011      |1998|   Q04| -0.3|              |\n",
      "|PRS30006011      |1998|   Q05|  0.8|              |\n",
      "+-----------------+----+------+-----+--------------+\n",
      "only showing top 20 rows\n",
      "\n",
      "+--------------------+--------------------+\n",
      "|                data|              source|\n",
      "+--------------------+--------------------+\n",
      "|[[01000US, United...|[[[Population], [...|\n",
      "+--------------------+--------------------+"
     ]
    }
   ],
   "source": [
    "pr_results.show()\n",
    "usadata_results.show()"
   ]
  },
  {
   "cell_type": "code",
   "execution_count": 5,
   "id": "c25a3a81",
   "metadata": {},
   "outputs": [
    {
     "data": {
      "application/vnd.jupyter.widget-view+json": {
       "model_id": "",
       "version_major": 2,
       "version_minor": 0
      },
      "text/plain": [
       "FloatProgress(value=0.0, bar_style='info', description='Progress:', layout=Layout(height='25px', width='50%'),…"
      ]
     },
     "metadata": {},
     "output_type": "display_data"
    }
   ],
   "source": [
    "data_struct = ArrayType(StructType([    \n",
    "        StructField(\"id\", StringType(), True),\n",
    "        StructField(\"nation\", StringType(), True),\n",
    "        StructField(\"year\", LongType(), True),\n",
    "        StructField(\"year_str\", StringType(), True),\n",
    "        StructField(\"population\", LongType(), True),\n",
    "        StructField(\"slug\", StringType(), True)\n",
    "  ]\n",
    "))\n",
    "\n",
    "data = usadata_results.withColumn(\"data_struct\", usadata_results.data.cast(data_struct))"
   ]
  },
  {
   "cell_type": "code",
   "execution_count": 6,
   "id": "2862cbb8",
   "metadata": {},
   "outputs": [
    {
     "data": {
      "application/vnd.jupyter.widget-view+json": {
       "model_id": "",
       "version_major": 2,
       "version_minor": 0
      },
      "text/plain": [
       "FloatProgress(value=0.0, bar_style='info', description='Progress:', layout=Layout(height='25px', width='50%'),…"
      ]
     },
     "metadata": {},
     "output_type": "display_data"
    },
    {
     "name": "stdout",
     "output_type": "stream",
     "text": [
      "+--------------------+-----------------+-----------+\n",
      "|         data_struct|population_struct|year_struct|\n",
      "+--------------------+-----------------+-----------+\n",
      "|[[01000US, United...|        327167439|       2018|\n",
      "|[[01000US, United...|        327167439|       2017|\n",
      "|[[01000US, United...|        327167439|       2016|\n",
      "|[[01000US, United...|        327167439|       2015|\n",
      "|[[01000US, United...|        327167439|       2014|\n",
      "|[[01000US, United...|        327167439|       2013|\n",
      "|[[01000US, United...|        325719178|       2018|\n",
      "|[[01000US, United...|        325719178|       2017|\n",
      "|[[01000US, United...|        325719178|       2016|\n",
      "|[[01000US, United...|        325719178|       2015|\n",
      "|[[01000US, United...|        325719178|       2014|\n",
      "|[[01000US, United...|        325719178|       2013|\n",
      "|[[01000US, United...|        323127515|       2018|\n",
      "|[[01000US, United...|        323127515|       2017|\n",
      "|[[01000US, United...|        323127515|       2016|\n",
      "|[[01000US, United...|        323127515|       2015|\n",
      "|[[01000US, United...|        323127515|       2014|\n",
      "|[[01000US, United...|        323127515|       2013|\n",
      "|[[01000US, United...|        321418821|       2018|\n",
      "|[[01000US, United...|        321418821|       2017|\n",
      "+--------------------+-----------------+-----------+\n",
      "only showing top 20 rows"
     ]
    }
   ],
   "source": [
    "query1 = data.select(\"data_struct\", explode(\"data_struct.population\").alias(\"population_struct\"))\n",
    "query2 = query1.select(\"data_struct\", \"population_struct\", explode(\"data_struct.year\").alias(\"year_struct\"))\n",
    "query2.show(20)"
   ]
  },
  {
   "cell_type": "code",
   "execution_count": 7,
   "id": "6e1aef06",
   "metadata": {},
   "outputs": [
    {
     "data": {
      "application/vnd.jupyter.widget-view+json": {
       "model_id": "",
       "version_major": 2,
       "version_minor": 0
      },
      "text/plain": [
       "FloatProgress(value=0.0, bar_style='info', description='Progress:', layout=Layout(height='25px', width='50%'),…"
      ]
     },
     "metadata": {},
     "output_type": "display_data"
    },
    {
     "name": "stdout",
     "output_type": "stream",
     "text": [
      "+--------------------+-----------------+-----------+\n",
      "|         data_struct|population_struct|year_struct|\n",
      "+--------------------+-----------------+-----------+\n",
      "|[[01000US, United...|        327167439|       2018|\n",
      "|[[01000US, United...|        327167439|       2017|\n",
      "|[[01000US, United...|        327167439|       2016|\n",
      "|[[01000US, United...|        327167439|       2015|\n",
      "|[[01000US, United...|        327167439|       2014|\n",
      "|[[01000US, United...|        327167439|       2013|\n",
      "|[[01000US, United...|        325719178|       2018|\n",
      "|[[01000US, United...|        325719178|       2017|\n",
      "|[[01000US, United...|        325719178|       2016|\n",
      "|[[01000US, United...|        325719178|       2015|\n",
      "|[[01000US, United...|        325719178|       2014|\n",
      "|[[01000US, United...|        325719178|       2013|\n",
      "|[[01000US, United...|        323127515|       2018|\n",
      "|[[01000US, United...|        323127515|       2017|\n",
      "|[[01000US, United...|        323127515|       2016|\n",
      "|[[01000US, United...|        323127515|       2015|\n",
      "|[[01000US, United...|        323127515|       2014|\n",
      "|[[01000US, United...|        323127515|       2013|\n",
      "|[[01000US, United...|        321418821|       2018|\n",
      "|[[01000US, United...|        321418821|       2017|\n",
      "+--------------------+-----------------+-----------+\n",
      "only showing top 20 rows\n",
      "\n",
      "+-------------------------------------------+----------------------------------------------------------------+\n",
      "|avg(population_struct AS `population_mean`)|stddev_samp(population_struct AS `population_standar_deviation`)|\n",
      "+-------------------------------------------+----------------------------------------------------------------+\n",
      "|                               3.22069808E8|                                               3849968.299391751|\n",
      "+-------------------------------------------+----------------------------------------------------------------+"
     ]
    }
   ],
   "source": [
    "from pyspark.sql.functions import mean as _mean, stddev as _stddev, col\n",
    "\n",
    "query3 = query2.filter(query2[\"year_struct\"].between(2013,2018))\n",
    "query3.show()\n",
    "\n",
    "query3 = query3.select(\n",
    "    _mean(query2[\"population_struct\"].alias('population_mean')),\n",
    "    _stddev(query2[\"population_struct\"].alias('population_standar_deviation'))\n",
    ")\n",
    "query3.show()"
   ]
  },
  {
   "cell_type": "code",
   "execution_count": 8,
   "id": "786279c0",
   "metadata": {},
   "outputs": [
    {
     "data": {
      "application/vnd.jupyter.widget-view+json": {
       "model_id": "",
       "version_major": 2,
       "version_minor": 0
      },
      "text/plain": [
       "FloatProgress(value=0.0, bar_style='info', description='Progress:', layout=Layout(height='25px', width='50%'),…"
      ]
     },
     "metadata": {},
     "output_type": "display_data"
    },
    {
     "name": "stdout",
     "output_type": "stream",
     "text": [
      "+-----------------+----+-----------------+\n",
      "|        series_id|year|            Value|\n",
      "+-----------------+----+-----------------+\n",
      "|PRS32006013      |1995|764.1800000000001|\n",
      "|PRS32006013      |1996|          751.414|\n",
      "|PRS32006013      |1997|          746.564|\n",
      "|PRS32006033      |1995|          745.151|\n",
      "|PRS32006013      |1998|739.5600000000001|\n",
      "|PRS32006033      |1997|          735.156|\n",
      "|PRS30006013      |1998|           733.29|\n",
      "|PRS32006033      |1996|732.0840000000001|\n",
      "|PRS32006033      |1998|731.0910000000001|\n",
      "|PRS30006033      |1998|          730.889|\n",
      "|PRS31006033      |1998|730.7630000000001|\n",
      "|PRS31006013      |1998|729.5419999999999|\n",
      "|PRS30006033      |1997|           728.45|\n",
      "|PRS30006013      |1997|          727.175|\n",
      "|PRS31006013      |2000|          726.555|\n",
      "|PRS31006033      |1997|           724.49|\n",
      "|PRS31006033      |1999|722.1950000000002|\n",
      "|PRS31006013      |1999|          722.173|\n",
      "|PRS30006013      |1999|721.9309999999999|\n",
      "|PRS31006033      |2000|          721.732|\n",
      "+-----------------+----+-----------------+\n",
      "only showing top 20 rows"
     ]
    }
   ],
   "source": [
    "querypr1 = pr_results.select(\"series_id\", \"year\",\"value\").groupBy(\"series_id\", \"year\").agg(\n",
    "        sum(pr_results[\"value\"]).alias(\"Value\")\n",
    "    ).sort(\"Value\", ascending=False)\n",
    "querypr1.show()"
   ]
  }
 ],
 "metadata": {
  "kernelspec": {
   "display_name": "Sparkmagic (PySpark)",
   "language": "python",
   "name": "pysparkkernel"
  },
  "language_info": {
   "codemirror_mode": {
    "name": "python",
    "version": 3
   },
   "file_extension": ".py",
   "mimetype": "text/x-python",
   "name": "pyspark",
   "pygments_lexer": "python3"
  }
 },
 "nbformat": 4,
 "nbformat_minor": 5
}
